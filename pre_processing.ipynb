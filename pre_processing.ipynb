{
 "cells": [
  {
   "cell_type": "markdown",
   "id": "14c96817",
   "metadata": {
    "pycharm": {
     "name": "#%% md\n"
    }
   },
   "source": [
    "## 1. Import Data\n",
    "Load the data file into MATLAB workspace."
   ]
  },
  {
   "cell_type": "code",
   "execution_count": 1,
   "id": "f9e7da65",
   "metadata": {
    "pycharm": {
     "name": "#%%\n"
    }
   },
   "outputs": [],
   "source": [
    "load(\"DREAMER.mat\");"
   ]
  },
  {
   "cell_type": "markdown",
   "id": "b9f26d4e",
   "metadata": {
    "pycharm": {
     "name": "#%% md\n"
    }
   },
   "source": [
    "### 1.1 A Few CONSTANTS"
   ]
  },
  {
   "cell_type": "code",
   "execution_count": 2,
   "id": "4f4c6433",
   "metadata": {
    "pycharm": {
     "name": "#%%\n"
    }
   },
   "outputs": [],
   "source": [
    "PARENT_DIR = pwd;\n",
    "\n",
    "SAMPLING_FREQ = DREAMER.ECG_SamplingRate;\n",
    "\n",
    "LOWPASS_CUTOFF_FREQ = 60;\n",
    "LOWPASS_FILTER_ORDER = 4;\n",
    "\n",
    "SIGNAL_CHUCK_SECS = 15;\n",
    "CHUNK_SAMPLE_SIZE = SIGNAL_CHUCK_SECS * SAMPLING_FREQ;\n",
    "\n",
    "CWT_IMG_SIZE = 224;\n",
    "\n",
    "% Adds a sub-dir to path to access helper functions\n",
    "addpath(\"./helperFunctions\")"
   ]
  },
  {
   "cell_type": "markdown",
   "id": "57b32d19",
   "metadata": {
    "pycharm": {
     "name": "#%% md\n"
    }
   },
   "source": [
    "### 1.2 Signal length check according to clip\n",
    "This code performs a check on the length of the ECG signal for each clip in the DREAMER dataset, across all subjects. It loops over each clip, and checks if the number of samples in the ECG signal for the first subject in the dataset matches that of all other subjects. If the lengths do not match, it prints a warning message indicating that the signal for a specific subject and clip has gone astray. Finally, it prints a message indicating that the signal length check according to clip is done."
   ]
  },
  {
   "cell_type": "code",
   "execution_count": 3,
   "id": "677c4146",
   "metadata": {
    "pycharm": {
     "name": "#%%\n"
    }
   },
   "outputs": [
    {
     "name": "stdout",
     "output_type": "stream",
     "text": [
      "Signal length check according to clip done!\n"
     ]
    }
   ],
   "source": [
    "for i = 1:DREAMER.noOfVideoSequences\n",
    "    ref = size(DREAMER.Data{1}.ECG.stimuli{i}, 1);\n",
    "    for j = 2:DREAMER.noOfSubjects\n",
    "        if ~isequal(size(DREAMER.Data{j}.ECG.stimuli{i}, 1), ref)\n",
    "            fprintf(\"Subject %d Clip %d has gone astray\\n\", j, i);\n",
    "        end\n",
    "    end\n",
    "end\n",
    "disp(\"Signal length check according to clip done!\");"
   ]
  },
  {
   "cell_type": "markdown",
   "id": "a206ea1c",
   "metadata": {
    "pycharm": {
     "name": "#%% md\n"
    }
   },
   "source": [
    "### 1.3 Create directories to store CWTs\n",
    "To store the preprocessed data of each category, first create an ECG data directory dataDir inside tempdir. Then create three subdirectories in 'data' named after each ECG category. The helper function helperCreateECGDirectories does this. \n",
    "helperCreateECGDirectories accepts ECGData, the name of an ECG data directory, and the name of a parent directory as input arguments. You can replace tempdir with another directory where you have write permission. "
   ]
  },
  {
   "cell_type": "code",
   "execution_count": 4,
   "id": "3d236ff0",
   "metadata": {
    "pycharm": {
     "name": "#%%\n"
    }
   },
   "outputs": [],
   "source": [
    "for str = {'Morse','amor', 'bump'}\n",
    "    DATA_DIR = str{1};\n",
    "    mkdir(fullfile(PARENT_DIR, \"data\", DATA_DIR));\n",
    "    mkdir(fullfile(PARENT_DIR, \"data\", DATA_DIR, \"HVHA\"));\n",
    "    mkdir(fullfile(PARENT_DIR, \"data\", DATA_DIR, \"HVLA\"));\n",
    "    mkdir(fullfile(PARENT_DIR, \"data\", DATA_DIR, \"LVHA\"));\n",
    "    mkdir(fullfile(PARENT_DIR, \"data\", DATA_DIR, \"LVLA\"));\n",
    "end"
   ]
  },
  {
   "cell_type": "markdown",
   "id": "22e6b99b",
   "metadata": {
    "pycharm": {
     "name": "#%% md\n"
    }
   },
   "source": [
    "## 2. Pre-Process ECG Signals\n",
    "To ensure the reliability and validity of the ECG data used in this study, a robust pre-processing pipeline was employed. The pipeline is described in detail in the following steps:"
   ]
  },
  {
   "cell_type": "markdown",
   "id": "aa0c3baa",
   "metadata": {
    "pycharm": {
     "name": "#%% md\n"
    }
   },
   "source": [
    "### 2.1 Low-Pass Filter\n",
    "A low-pass filter for ECG is a signal processing technique used to remove high-frequency noise and artifacts from the ECG signal. It passes only the low-frequency components of the ECG waveform, which are the important components that represent the heart's electrical activity. The filtering helps to improve the signal-to-noise ratio of the ECG and make it easier to analyze and interpret.\n",
    "\n",
    "The `helperApplyLowPassFilter` function applies a low-pass filter to a noisy ECG signal to remove high-frequency noise and extract the underlying signal. The function takes four input arguments:\n",
    "\n",
    "- `fs`: the sampling frequency of the ECG signal.\n",
    "- `fc`: the cutoff frequency of the low-pass filter.\n",
    "- `N`: the order of the FIR filter used to implement the low-pass filter.\n",
    "- `ecgNoisy`: the noisy ECG signal.\n",
    "The function first uses the fir1 function to design the filter coefficients for a low-pass filter with cutoff frequency `fc` normalized by the Nyquist frequency `(fs/2)`. The `fir1` function generates an N-th order FIR filter with coefficients `b`.\n",
    "\n",
    "Then, the function applies the filter to the ecgNoisy signal using the `filtfilt` function, which applies the filter twice (forward and backward) to eliminate any phase distortion introduced by the filter. The filtered signal is then returned as ecgClean.\n",
    "\n",
    "Overall, the function implements a low-pass filter using FIR filter design and applies it to remove high-frequency noise from the input ECG signal."
   ]
  },
  {
   "cell_type": "code",
   "execution_count": 6,
   "id": "847f6fcb",
   "metadata": {
    "pycharm": {
     "name": "#%%\n"
    },
    "scrolled": false
   },
   "outputs": [
    {
     "name": "stdout",
     "output_type": "stream",
     "text": [
      "Created file '/Users/abdullahmeda/Library/CloudStorage/OneDrive-Personal/BSc-Thesis/helperFunctions/helperApplyLowPassFilter.m'.\n"
     ]
    }
   ],
   "source": [
    "%%file helperFunctions/helperApplyLowPassFilter.m\n",
    "\n",
    "function ecgClean = helperApplyLowPassFilter(fs, fc, N, ecgNoisy)\n",
    "    % Design the filter coefficients using the FIR1 function\n",
    "    % Note: FIR1 uses a normalized cutoff frequency between 0 and 1, so we need to normalize fc by fs/2\n",
    "    b = fir1(N, fc/(fs/2));\n",
    "    \n",
    "    % Apply the filter to the ECG signal using the filter function\n",
    "    % Note: we use the filtfilt function to apply the filter twice (forward and backward) to eliminate\n",
    "    %       any phase distortion introduced by the filter\n",
    "    ecgClean = filtfilt(b, 1, ecgNoisy);\n",
    "end"
   ]
  },
  {
   "cell_type": "markdown",
   "id": "f4ae3db6",
   "metadata": {
    "pycharm": {
     "name": "#%% md\n"
    }
   },
   "source": [
    "### 2.2 Signal Segmentation\n",
    "Segmentation of ECG signals into 15-second intervals is a common practice in ECG analysis. This involves dividing the continuous ECG signal into multiple non-overlapping segments of equal length, with each segment representing a 15-second window of ECG data. The purpose of segmentation is to facilitate the analysis and interpretation of ECG signals by breaking them down into smaller, more manageable pieces. This approach is often used in ECG-based diagnosis and monitoring applications, where a longer recording of ECG data is acquired and then segmented into shorter intervals for analysis."
   ]
  },
  {
   "cell_type": "code",
   "execution_count": 7,
   "id": "f4594e68",
   "metadata": {
    "pycharm": {
     "name": "#%%\n"
    }
   },
   "outputs": [],
   "source": [
    "% This step is covered code-wise in section 3.2 itself"
   ]
  },
  {
   "cell_type": "markdown",
   "id": "e40621e7",
   "metadata": {
    "pycharm": {
     "name": "#%% md\n"
    }
   },
   "source": [
    "### 2.3 Baseline Removal\n",
    "This step involves removing the neutral baseline activity from all the ECG signals as it has been proven to be an essential pre-processing step for emotion elicitation. The practice of using neutral signals as baseline signals has been demonstrated to be effective in eliminating the influence of daily variations when collecting physiological data\n",
    "\n",
    "The `helperComputeMeanBaselineSig` function extracts the ECG baseline signal for a specified channel of a subject and video from the given data. The function takes six input arguments:\n",
    "\n",
    "- `data`: the ECG data structure containing the ECG baseline data.\n",
    "- `video`: the video number for which the ECG baseline signal is to be extracted.\n",
    "- `subject`: the subject number for which the ECG baseline signal is to be extracted.\n",
    "- `channel`: the channel number for which the ECG baseline signal is to be extracted.\n",
    "- `fs`: the sampling frequency of the ECG signal.\n",
    "- `secs`: the duration of the emotional signal in seconds.\n",
    "\n",
    "The function first extracts the ECG baseline data for the specified subject, video, and channel from the data structure using the syntax `data.Data{1, subject}.ECG.baseline{video, 1}(:, channel)`. This selects all the samples for the specified channel.\n",
    "\n",
    "Then, the function reshapes the ECG baseline data into multiple rows of 256 samples, i.e., 1 second of data, using the reshape function. This allows the function to compute the mean of all 61 seconds of baseline activity, which is computed using the mean function and then replicated to create a baseline signal of length secs seconds.\n",
    "\n",
    "Overall, the function computes the mean baseline signal for a specified channel of a subject and video from the given ECG data."
   ]
  },
  {
   "cell_type": "code",
   "execution_count": 8,
   "id": "b0eb2a18",
   "metadata": {
    "pycharm": {
     "name": "#%%\n"
    }
   },
   "outputs": [
    {
     "name": "stdout",
     "output_type": "stream",
     "text": [
      "Created file '/Users/abdullahmeda/Library/CloudStorage/OneDrive-Personal/BSc-Thesis/helperFunctions/helperComputeMeanBaselineSig.m'.\n"
     ]
    }
   ],
   "source": [
    "%%file helperFunctions/helperComputeMeanBaselineSig.m\n",
    "\n",
    "function baselineSig = helperComputeMeanBaselineSig(data, video, subject, channel, fs, secs)\n",
    "    % Gets ECG data of the given subject and video and extracts the ECG baseline for the given channel. \n",
    "    % The (:, channel) syntax selects all the samples for the specified channel.\n",
    "    ecgBaseline = data.Data{1, subject}.ECG.baseline{video, 1}(:, channel);\n",
    "    \n",
    "    % Reshapes the ECG baseline data into multiple rows of 256 samples, i.e. 1 second\n",
    "    BLSegments = reshape(ecgBaseline, [fs, size(ecgBaseline, 1) / fs]).';\n",
    "    \n",
    "    % Computes the mean of all 61 seconds of baseline activity\n",
    "    baselineSig = repmat(mean(BLSegments), secs, 1);\n",
    "end"
   ]
  },
  {
   "cell_type": "markdown",
   "id": "47393c0a",
   "metadata": {
    "pycharm": {
     "name": "#%% md\n"
    }
   },
   "source": [
    "The `helperSubtractBaseline` function subtracts the baseline signal from the emotional ECG signal to obtain a clean ECG signal that represents the variation due to emotional changes. The function takes four input arguments:\n",
    "\n",
    "- `baselineECG`: the baseline ECG signal.\n",
    "- `emotionalECG`: the emotional ECG signal.\n",
    "- `fs`: the sampling frequency of the ECG signal.\n",
    "- `secs`: the duration of the emotional ECG signal in seconds.\n",
    "\n",
    "The function first reshapes the emotional ECG signal into multiple rows of `fs` samples, i.e., 1 second of data, using the `reshape` function. The `secs` variable is used to specify the number of seconds in the emotional ECG signal.\n",
    "\n",
    "Then, the function calculates the baseline removal signal (BLR) by subtracting the baseline ECG signal from the emotional ECG signal reshaped earlier. This is done using the `-` operator, which subtracts the corresponding elements of the two signals.\n",
    "\n",
    "Finally, the function reshapes the BLR signal into a row vector of length `fs * secs` using the `reshape` function and returns it as `cleanSig`.\n",
    "\n",
    "Overall, the function performs baseline removal by subtracting the baseline ECG signal from the emotional ECG signal and returns the clean ECG signal that represents the variation due to emotional changes."
   ]
  },
  {
   "cell_type": "code",
   "execution_count": 9,
   "id": "e6772e48",
   "metadata": {
    "pycharm": {
     "name": "#%%\n"
    }
   },
   "outputs": [
    {
     "name": "stdout",
     "output_type": "stream",
     "text": [
      "Created file '/Users/abdullahmeda/Library/CloudStorage/OneDrive-Personal/BSc-Thesis/helperFunctions/helperSubtractBaseline.m'.\n"
     ]
    }
   ],
   "source": [
    "%%file helperFunctions/helperSubtractBaseline.m\n",
    "\n",
    "function cleanSig = helperSubtractBaseline(baselineECG, emotionalECG, fs, secs)\n",
    "    emotionalECG = reshape(emotionalECG, [fs, secs]).';\n",
    "    blr = emotionalECG - baselineECG;\n",
    "    cleanSig = reshape(blr.', [fs * secs, 1]).';\n",
    "end"
   ]
  },
  {
   "cell_type": "markdown",
   "id": "6b2bf022",
   "metadata": {
    "pycharm": {
     "name": "#%% md\n"
    }
   },
   "source": [
    "### 2.4 Z-Score Normalization\n",
    "Z-score normalization is a common pre-processing step for ECG signals as it helps to standardize the amplitude of the signals and remove any baseline shifts or variations due to differences in individual physiology or signal acquisition.\n",
    "\n",
    "The `helperNormalizeSignal` function performs z-score normalization on an input ECG signal to transform it into a signal with zero mean and unit variance. The function takes one input argument:\n",
    "\n",
    "- `ecgSignal`: the input ECG signal.\n",
    "\n",
    "The function first computes the mean and standard deviation of the input signal using the `mean` and `std` functions, respectively.\n",
    "\n",
    "Then, the function applies z-score normalization to the input signal by subtracting the signal mean from each sample and dividing by the signal standard deviation. This is done using the formula: `(ecgSignal - signalMean) / signalSTD`.\n",
    "\n",
    "Finally, the function returns the normalized signal as `normalizedSignal`.\n",
    "\n",
    "Overall, the function performs z-score normalization on an input ECG signal to make it have zero mean and unit variance."
   ]
  },
  {
   "cell_type": "code",
   "execution_count": 10,
   "id": "565eae8a",
   "metadata": {
    "pycharm": {
     "name": "#%%\n"
    }
   },
   "outputs": [
    {
     "name": "stdout",
     "output_type": "stream",
     "text": [
      "Created file '/Users/abdullahmeda/Library/CloudStorage/OneDrive-Personal/BSc-Thesis/helperFunctions/helperNormalizeSignal.m'.\n"
     ]
    }
   ],
   "source": [
    "%%file helperFunctions/helperNormalizeSignal.m\n",
    "\n",
    "function normalizedSignal = helperNormalizeSignal(ecgSignal)\n",
    "    % Compute the mean and standard deviation of the signal\n",
    "    signalMean = mean(ecgSignal);\n",
    "    signalSTD = std(ecgSignal);\n",
    "\n",
    "    % Apply z-score normalization\n",
    "    normalizedSignal = (ecgSignal - signalMean) / signalSTD;\n",
    "end"
   ]
  },
  {
   "cell_type": "markdown",
   "id": "b126f6c8",
   "metadata": {
    "pycharm": {
     "name": "#%% md\n"
    }
   },
   "source": [
    "## 3. Create Time-Frequency Representations\n",
    "After making the folders and pre-processing the signals, create time-frequency representations of the ECG signals. These representations are called scalograms. A scalogram is the absolute value of the CWT coefficients of a signal.\n",
    "\n",
    "To create the scalograms, precompute a CWT filter bank. Precomputing the CWT filter bank is the preferred method when obtaining the CWT of many signals using the same parameters.\n",
    "\n",
    "Before generating the scalograms, examine one of them. Here's an instance where I create a CWT filter bank using `cwtfilterbank` for a signal thats 10 seconds long."
   ]
  },
  {
   "cell_type": "code",
   "execution_count": 5,
   "id": "e1013501",
   "metadata": {
    "pycharm": {
     "name": "#%%\n"
    }
   },
   "outputs": [
    {
     "data": {
      "image/png": "[encoded data removed]",
      "text/plain": [
       "<IPython.core.display.Image object>"
      ]
     },
     "metadata": {},
     "output_type": "display_data"
    }
   ],
   "source": [
    "fb = cwtfilterbank( 'SignalLength', 2560, ...\n",
    "                    'SamplingFrequency', DREAMER.ECG_SamplingRate);\n",
    "\n",
    "sig = DREAMER.Data{1, 1}.ECG.stimuli{1, 1}(1:2560, 1)';\n",
    "[cfs,frq] = wt(fb,sig);\n",
    "\n",
    "t = (0:2559)/DREAMER.ECG_SamplingRate;\n",
    "\n",
    "figure;\n",
    "pcolor(t,frq,abs(cfs))\n",
    "set(gca,'yscale','log');\n",
    "shading interp;\n",
    "axis tight;\n",
    "title('Scalogram');\n",
    "xlabel('Time (s)');\n",
    "ylabel('Frequency (Hz)')"
   ]
  },
  {
   "cell_type": "markdown",
   "id": "f14042d7",
   "metadata": {
    "pycharm": {
     "name": "#%% md\n"
    }
   },
   "source": [
    "### 3.1 Convert ECG signal into CWT\n",
    "The `helperMakeCWT` function computes the continuous wavelet transform (CWT) of an input ECG signal and returns the CWT as an RGB image. The function takes three input arguments:\n",
    "\n",
    "- `fb`: a filter bank object obtained using the cwtfilterbank function.\n",
    "- `normalizedSignal`: the input ECG signal, which has been z-score normalized using the helperNormalizeSignal function.\n",
    "- `imgSize`: the desired size of the output image in pixels.\n",
    "\n",
    "The function first computes the CWT of the input signal using the `abs(fb.wt(normalizedSignal))` function call. This returns a matrix of wavelet coefficients that represent the frequency and time information of the input signal.\n",
    "\n",
    "Next, the function converts the wavelet coefficients to an RGB image using the `ind2rgb` function. The `im2uint8` function is used to convert the wavelet coefficients to unsigned 8-bit integers, and the `rescale` function is used to scale the values to the range [0,1]. The `jet` colormap is applied to the image to represent the wavelet coefficients using different colors.\n",
    "\n",
    "Finally, the function resizes the RGB image to the desired size `imgSize` using the `imresize` function, and returns the resized image as `cwt`.\n",
    "\n",
    "Overall, the function computes the continuous wavelet transform of an input ECG signal and returns it as an RGB image that represents the frequency and time information of the signal."
   ]
  },
  {
   "cell_type": "code",
   "execution_count": 12,
   "id": "b3b1db17",
   "metadata": {
    "pycharm": {
     "name": "#%%\n"
    }
   },
   "outputs": [
    {
     "name": "stdout",
     "output_type": "stream",
     "text": [
      "Created file '/Users/abdullahmeda/Library/CloudStorage/OneDrive-Personal/BSc-Thesis/helperFunctions/helperMakeCWT.m'.\n"
     ]
    }
   ],
   "source": [
    "%%file helperFunctions/helperMakeCWT.m\n",
    "\n",
    "function cwt = helperMakeCWT(fb, normalizedSignal, imgSize)\n",
    "    % Compute the continuous wavelet transform of the normalized signal\n",
    "    cfs = abs(fb.wt(normalizedSignal));\n",
    "\n",
    "    % Convert the wavelet coefficients to an RGB image\n",
    "    im = ind2rgb(im2uint8(rescale(cfs)),jet(128));\n",
    "    \n",
    "    % Resize the image to imgSize x imgSize\n",
    "    cwt = imresize(im,[imgSize imgSize]);\n",
    "end"
   ]
  },
  {
   "cell_type": "markdown",
   "id": "fc3d4718",
   "metadata": {
    "pycharm": {
     "name": "#%% md\n"
    }
   },
   "source": [
    "### 3.2 Putting it all togather"
   ]
  },
  {
   "cell_type": "markdown",
   "id": "6f8fa239",
   "metadata": {
    "pycharm": {
     "name": "#%% md\n"
    }
   },
   "source": [
    "Following is helper function to pretty print progress bars"
   ]
  },
  {
   "cell_type": "code",
   "execution_count": 13,
   "id": "97a70d2e",
   "metadata": {
    "pycharm": {
     "name": "#%%\n"
    }
   },
   "outputs": [
    {
     "name": "stdout",
     "output_type": "stream",
     "text": [
      "Created file '/Users/abdullahmeda/Library/CloudStorage/OneDrive-Personal/BSc-Thesis/progress_bar.m'.\n"
     ]
    }
   ],
   "source": [
    "%%file progress_bar.m\n",
    "\n",
    "function bar = progress_bar(progress, text)\n",
    "    bar = [repmat('█', 1, floor(progress*20)), repmat('░', 1, 20 - floor(progress*20))];\n",
    "    bar = sprintf('[%s] %s', bar, text);\n",
    "end"
   ]
  },
  {
   "cell_type": "markdown",
   "id": "bc01839d",
   "metadata": {
    "pycharm": {
     "name": "#%% md\n"
    }
   },
   "source": [
    "and a helper function to get the appropriate label for a signal chunk given its valence and arousal"
   ]
  },
  {
   "cell_type": "code",
   "execution_count": 14,
   "id": "f3a291ba",
   "metadata": {
    "pycharm": {
     "name": "#%%\n"
    }
   },
   "outputs": [
    {
     "name": "stdout",
     "output_type": "stream",
     "text": [
      "Created file '/Users/abdullahmeda/Library/CloudStorage/OneDrive-Personal/BSc-Thesis/getOutputLabel.m'.\n"
     ]
    }
   ],
   "source": [
    "%%file helperGetOutputLabel.m\n",
    "\n",
    "function label = helperGetOutputLabel(valence, arousal)\n",
    "    \n",
    "    if valence > 2\n",
    "        valence = \"HV\";\n",
    "    else\n",
    "        valence = \"LV\";\n",
    "    end\n",
    "    \n",
    "    if arousal > 2\n",
    "        arousal = \"HA\";\n",
    "    else\n",
    "        arousal = \"LA\";\n",
    "    end\n",
    "\n",
    "    label = valence + arousal;\n",
    "\n",
    "end\n"
   ]
  },
  {
   "cell_type": "markdown",
   "id": "1242e39f",
   "metadata": {
    "pycharm": {
     "name": "#%% md\n"
    }
   },
   "source": [
    "Putting all the pre-processing steps togather, this particular code block loops over 18 video sequences and 23 experimental subjects, filters the ECG signal for each subject, and iterates over the signal in 15-second chunks. It then extracts the current chunk of the signal, subtracts the baseline signal, normalizes the clean signal, computes the continuous wavelet transform of the normalized signal, and saves the resulting image to a directory with the appropriate label.\n",
    "\n",
    "The progress of the loop is tracked and a progress bar is displayed using the `progress_bar` function. The progress bar is updated on each iteration of the outermost loop."
   ]
  },
  {
   "cell_type": "code",
   "execution_count": 5,
   "id": "e72ee349",
   "metadata": {
    "pycharm": {
     "name": "#%%\n"
    }
   },
   "outputs": [
    {
     "name": "stdout",
     "output_type": "stream",
     "text": [
      "     1\n",
      "\n",
      "     2\n",
      "\n",
      "     3\n",
      "\n",
      "     4\n",
      "\n",
      "     5\n",
      "\n",
      "     6\n",
      "\n",
      "     7\n",
      "\n",
      "     8\n",
      "\n",
      "     9\n",
      "\n",
      "    10\n",
      "\n",
      "    11\n",
      "\n",
      "    12\n",
      "\n",
      "    13\n",
      "\n",
      "the MATLAB function has been cancelled\n"
     ]
    }
   ],
   "source": [
    "progress = 0; % initialize progress\n",
    "\n",
    "for str = {'Morse', 'amor', 'bump'}\n",
    "    wavelet = str{1};\n",
    "    cfb = cwtfilterbank('SignalLength', CHUNK_SAMPLE_SIZE, ...\n",
    "                        'SamplingFrequency', DREAMER.ECG_SamplingRate, ...\n",
    "                        'Wavelet', wavelet);\n",
    "\n",
    "    for i = 1:DREAMER.noOfVideoSequences    % 18 video sequences\n",
    "    \n",
    "        for j = 1:DREAMER.noOfSubjects      % 23 experimental subjects\n",
    "    \n",
    "            % Get the valence and arousal scores for the current video sequencecand subject\n",
    "            valence = DREAMER.Data{j}.ScoreValence(i);\n",
    "            arousal = DREAMER.Data{j}.ScoreArousal(i);\n",
    "    \n",
    "            % Get the output label (class) for the current signal\n",
    "            label = helperGetOutputLabel(valence, arousal);\n",
    "    \n",
    "            for k = 1:2 % 2 ECG channels\n",
    "    \n",
    "                % Filter the ECG signal using a lowpass filter\n",
    "                signal = helperApplyLowPassFilter(  SAMPLING_FREQ, ...\n",
    "                                                    LOWPASS_CUTOFF_FREQ, ...\n",
    "                                                    LOWPASS_CUTOFF_FREQ, ...\n",
    "                                                    DREAMER.Data{1, j}.ECG.stimuli{i, 1}(:, k)' ...\n",
    "                                                 );\n",
    "    \n",
    "                % Iterate over the signal in chunks of 15 seconds\n",
    "                for m = CHUNK_SAMPLE_SIZE:CHUNK_SAMPLE_SIZE:size(signal, 2)\n",
    "                    \n",
    "                    % Extract the current chunk of the signal\n",
    "                    signalChunk = signal(1, m-(CHUNK_SAMPLE_SIZE-1):m);\n",
    "            \n",
    "                    % Get the baseline signal for the current video sequence, subject, and ECG \n",
    "                    % channel and subtract it from the current chunk of the signal\n",
    "                    baselineSig = helperComputeMeanBaselineSig(DREAMER, i, j, k, SAMPLING_FREQ, SIGNAL_CHUCK_SECS);\n",
    "                    cleanSig = helperSubtractBaseline(baselineSig, signalChunk, SAMPLING_FREQ, SIGNAL_CHUCK_SECS);\n",
    "    \n",
    "                    % Z-Score Normalize the clean signal\n",
    "                    normalizedSignal = helperNormalizeSignal(cleanSig);\n",
    "    \n",
    "                    % Compute the continuous wavelet transform of the normalized signal\n",
    "                    cwt = helperMakeCWT(cfb, normalizedSignal, CWT_IMG_SIZE);\n",
    "                    \n",
    "                    % Define the directory and filename for saving the image and save it\n",
    "                    imgLoc = fullfile(PARENT_DIR, \"data\", wavelet, label);\n",
    "                    imFileName = sprintf(\"%d_%d_%d | %d-%d.jpg\", j, i, k, m-(CHUNK_SAMPLE_SIZE-1), m);\n",
    "                    imwrite(cwt,fullfile(imgLoc,imFileName));\n",
    "    \n",
    "                end\n",
    "                \n",
    "            end\n",
    "        \n",
    "        end\n",
    "\n",
    "    end\n",
    "    \n",
    "    progress = i/DREAMER.noOfVideoSequences; % update progress\n",
    "    \n",
    "    % display progress bar\n",
    "    text = sprintf('Progress: %d%%', round(progress*100));\n",
    "    bar = progress_bar(progress, text); % call progress_bar function\n",
    "    fprintf('\\r%s', bar); % move cursor to beginning of line and print progress bar\n",
    "    \n",
    "end"
   ]
  },
  {
   "cell_type": "code",
   "execution_count": null,
   "id": "567d43c8",
   "metadata": {
    "pycharm": {
     "name": "#%%\n"
    }
   },
   "outputs": [],
   "source": []
  }
 ],
 "metadata": {
  "kernelspec": {
   "display_name": "Matlab",
   "language": "matlab",
   "name": "matlab"
  },
  "language_info": {
   "codemirror_mode": "octave",
   "file_extension": ".m",
   "help_links": [
    {
     "text": "MetaKernel Magics",
     "url": "https://metakernel.readthedocs.io/en/latest/source/README.html"
    }
   ],
   "mimetype": "text/x-octave",
   "name": "matlab",
   "version": "0.17.1"
  }
 },
 "nbformat": 4,
 "nbformat_minor": 5
}
